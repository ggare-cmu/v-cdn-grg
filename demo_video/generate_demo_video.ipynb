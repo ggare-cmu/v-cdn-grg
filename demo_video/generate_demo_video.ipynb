{
 "cells": [
  {
   "cell_type": "code",
   "execution_count": 27,
   "metadata": {},
   "outputs": [],
   "source": [
    "import os\n",
    "import time\n",
    "\n",
    "import cv2\n",
    "import numpy as np\n",
    "from demo_utils import render_BallEnv, load_data\n",
    "\n",
    "from IPython.display import Image"
   ]
  },
  {
   "cell_type": "code",
   "execution_count": 33,
   "metadata": {},
   "outputs": [],
   "source": [
    "## hyperparameters\n",
    "\n",
    "# data_dir = 'data'\n",
    "# data_dir = '../data/data_Ball_v0/demo/'\n",
    "data_dir = '../demo_video'\n",
    "\n",
    "time_step = 500\n",
    "data_names = ['attr', 'state', 'action', 'rel_attr']"
   ]
  },
  {
   "cell_type": "code",
   "execution_count": 6,
   "metadata": {},
   "outputs": [
    {
     "ename": "IndexError",
     "evalue": "too many indices for array: array is 0-dimensional, but 1 were indexed",
     "output_type": "error",
     "traceback": [
      "\u001b[0;31m---------------------------------------------------------------------------\u001b[0m",
      "\u001b[0;31mIndexError\u001b[0m                                Traceback (most recent call last)",
      "\u001b[0;32m/tmp/ipykernel_3071156/1839968533.py\u001b[0m in \u001b[0;36m<module>\u001b[0;34m\u001b[0m\n\u001b[1;32m      7\u001b[0m \u001b[0mattr\u001b[0m\u001b[0;34m,\u001b[0m \u001b[0mstate\u001b[0m\u001b[0;34m,\u001b[0m \u001b[0maction\u001b[0m\u001b[0;34m,\u001b[0m \u001b[0mrel_attr\u001b[0m \u001b[0;34m=\u001b[0m \u001b[0mload_data\u001b[0m\u001b[0;34m(\u001b[0m\u001b[0mdata_names\u001b[0m\u001b[0;34m,\u001b[0m \u001b[0mdata_path\u001b[0m\u001b[0;34m)\u001b[0m\u001b[0;34m\u001b[0m\u001b[0;34m\u001b[0m\u001b[0m\n\u001b[1;32m      8\u001b[0m \u001b[0;34m\u001b[0m\u001b[0m\n\u001b[0;32m----> 9\u001b[0;31m \u001b[0mrender_BallEnv\u001b[0m\u001b[0;34m(\u001b[0m\u001b[0mstate\u001b[0m\u001b[0;34m,\u001b[0m \u001b[0maction\u001b[0m\u001b[0;34m,\u001b[0m \u001b[0mrel_attr\u001b[0m\u001b[0;34m[\u001b[0m\u001b[0;36m0\u001b[0m\u001b[0;34m]\u001b[0m\u001b[0;34m,\u001b[0m \u001b[0mvideo\u001b[0m\u001b[0;34m=\u001b[0m\u001b[0;32mTrue\u001b[0m\u001b[0;34m,\u001b[0m \u001b[0mimage\u001b[0m\u001b[0;34m=\u001b[0m\u001b[0;32mTrue\u001b[0m\u001b[0;34m,\u001b[0m \u001b[0mpath\u001b[0m\u001b[0;34m=\u001b[0m\u001b[0;34m'%s/%s'\u001b[0m \u001b[0;34m%\u001b[0m \u001b[0;34m(\u001b[0m\u001b[0mdata_dir\u001b[0m\u001b[0;34m,\u001b[0m \u001b[0mfile_name\u001b[0m\u001b[0;34m)\u001b[0m\u001b[0;34m)\u001b[0m\u001b[0;34m\u001b[0m\u001b[0;34m\u001b[0m\u001b[0m\n\u001b[0m\u001b[1;32m     10\u001b[0m \u001b[0;34m\u001b[0m\u001b[0m\n\u001b[1;32m     11\u001b[0m \u001b[0mprint\u001b[0m\u001b[0;34m(\u001b[0m\u001b[0;34m\"Sample image:\"\u001b[0m\u001b[0;34m)\u001b[0m\u001b[0;34m\u001b[0m\u001b[0;34m\u001b[0m\u001b[0m\n",
      "\u001b[0;31mIndexError\u001b[0m: too many indices for array: array is 0-dimensional, but 1 were indexed"
     ]
    }
   ],
   "source": [
    "## Two balls, no relation\n",
    "\n",
    "file_name = '2_balls_wo_relation'\n",
    "# file_name = '1'\n",
    "data_path = '%s/%s.h5' % (data_dir, file_name)\n",
    "\n",
    "attr, state, action, rel_attr = load_data(data_names, data_path)\n",
    "\n",
    "render_BallEnv(state, action, rel_attr[0], video=True, image=True, path='%s/%s' % (data_dir, file_name))\n",
    "\n",
    "print(\"Sample image:\")\n",
    "sample_img_path = '%s/%s/fig_0.png' % (data_dir, file_name)\n",
    "Image(filename=sample_img_path) "
   ]
  },
  {
   "cell_type": "code",
   "execution_count": null,
   "metadata": {},
   "outputs": [],
   "source": [
    "## Two balls, one relation\n",
    "\n",
    "file_name = '2_balls_w_relation'\n",
    "data_path = '%s/%s.h5' % (data_dir, file_name)\n",
    "\n",
    "attr, state, action, rel_attr = load_data(data_names, data_path)\n",
    "\n",
    "render_BallEnv(state, action, rel_attr[0], video=True, image=True,\n",
    "               path='%s/%s' % (data_dir, file_name),\n",
    "               draw_edge=False)\n",
    "\n",
    "render_BallEnv(state, action, rel_attr[0], video=True, image=True,\n",
    "               path='%s/%s_visEdge' % (data_dir, file_name),\n",
    "               draw_edge=True)\n",
    "\n",
    "print(\"Sample image:\")\n",
    "sample_img_path = '%s/%s_visEdge/fig_0.png' % (data_dir, file_name)\n",
    "Image(filename=sample_img_path) "
   ]
  },
  {
   "cell_type": "code",
   "execution_count": null,
   "metadata": {},
   "outputs": [],
   "source": [
    "## Five balls, one type of relation\n",
    "\n",
    "file_name = '5_balls_w_relation_oneType'\n",
    "data_path = '%s/%s.h5' % (data_dir, file_name)\n",
    "\n",
    "attr, state, action, rel_attr = load_data(data_names, data_path)\n",
    "\n",
    "render_BallEnv(state, action, rel_attr[0], video=True, image=True,\n",
    "               path='%s/%s' % (data_dir, file_name),\n",
    "               draw_edge=False)\n",
    "\n",
    "render_BallEnv(state, action, rel_attr[0], video=True, image=True,\n",
    "               path='%s/%s_visEdge' % (data_dir, file_name),\n",
    "               draw_edge=True)\n",
    "\n",
    "print(\"Sample image:\")\n",
    "sample_img_path = '%s/%s/fig_0.png' % (data_dir, file_name)\n",
    "Image(filename=sample_img_path) "
   ]
  },
  {
   "cell_type": "code",
   "execution_count": 34,
   "metadata": {},
   "outputs": [
    {
     "name": "stdout",
     "output_type": "stream",
     "text": [
      "Saving video as ../demo_video/5_balls_w_relation_multipleType.avi ...\n",
      "Saving images to ../demo_video/5_balls_w_relation_multipleType ...\n",
      "Saving video as ../demo_video/5_balls_w_relation_multipleType_visEdge.avi ...\n",
      "Saving images to ../demo_video/5_balls_w_relation_multipleType_visEdge ...\n"
     ]
    },
    {
     "name": "stderr",
     "output_type": "stream",
     "text": [
      "/home/grg/Research/v-cdn-grg/demo_video/demo_utils.py:69: RuntimeWarning: invalid value encountered in true_divide\n",
      "  Fx = F / normF * normF * 0.05\n",
      "/home/grg/Research/v-cdn-grg/demo_video/demo_utils.py:70: RuntimeWarning: invalid value encountered in true_divide\n",
      "  st = states[i, x, :2] + F / normF * 12.\n"
     ]
    },
    {
     "name": "stdout",
     "output_type": "stream",
     "text": [
      "Sample image:\n"
     ]
    },
    {
     "data": {
      "image/png": "[encoded data removed]",
      "text/plain": [
       "<IPython.core.display.Image object>"
      ]
     },
     "execution_count": 34,
     "metadata": {},
     "output_type": "execute_result"
    }
   ],
   "source": [
    "## Five balls, multiple types of relation\n",
    "\n",
    "file_name = '5_balls_w_relation_multipleType'\n",
    "data_path = '%s/%s.h5' % (data_dir, file_name)\n",
    "\n",
    "attr, state, action, rel_attr = load_data(data_names, data_path)\n",
    "\n",
    "render_BallEnv(state, action, rel_attr[0], video=True, image=True,\n",
    "               path='%s/%s' % (data_dir, file_name),\n",
    "               draw_edge=False)\n",
    "\n",
    "render_BallEnv(state, action, rel_attr[0], video=True, image=True,\n",
    "               path='%s/%s_visEdge' % (data_dir, file_name),\n",
    "               draw_edge=True)\n",
    "\n",
    "print(\"Sample image:\")\n",
    "sample_img_path = '%s/%s/fig_0.png' % (data_dir, file_name)\n",
    "Image(filename=sample_img_path) "
   ]
  },
  {
   "cell_type": "code",
   "execution_count": null,
   "metadata": {},
   "outputs": [],
   "source": []
  }
 ],
 "metadata": {
  "kernelspec": {
   "display_name": "base",
   "language": "python",
   "name": "python3"
  },
  "language_info": {
   "codemirror_mode": {
    "name": "ipython",
    "version": 3
   },
   "file_extension": ".py",
   "mimetype": "text/x-python",
   "name": "python",
   "nbconvert_exporter": "python",
   "pygments_lexer": "ipython3",
   "version": "3.8.16"
  },
  "vscode": {
   "interpreter": {
    "hash": "29cc6ffbdcf8747eb0d20c8d894243c52566d049a6ec2a8b8a3360bf8c52ae76"
   }
  }
 },
 "nbformat": 4,
 "nbformat_minor": 2
}
